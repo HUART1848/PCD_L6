{
 "cells": [
  {
   "cell_type": "markdown",
   "id": "ee30823d-d034-4328-8273-00a5b578a2b8",
   "metadata": {},
   "source": [
    "# Cours PCD – Labo 6 : Extraction d’attributs à partir de textes en vue de la classification"
   ]
  },
  {
   "cell_type": "code",
   "execution_count": 91,
   "id": "5ff4884b-d404-4efa-a95d-07cccbe92e20",
   "metadata": {
    "tags": []
   },
   "outputs": [],
   "source": [
    "import numpy as np\n",
    "import pandas as pd\n",
    "\n",
    "from nltk.corpus import reuters\n",
    "from sklearn.model_selection import GridSearchCV"
   ]
  },
  {
   "cell_type": "markdown",
   "id": "1d395733-aec1-480f-8aa3-e637382debfd",
   "metadata": {
    "tags": []
   },
   "source": [
    "## Exercice 1"
   ]
  },
  {
   "cell_type": "markdown",
   "id": "378ebe98-22a5-47cc-92c5-9e0ab3d1e77c",
   "metadata": {},
   "source": [
    "Chargement des IDs nécéssaires"
   ]
  },
  {
   "cell_type": "code",
   "execution_count": 38,
   "id": "270af467-fb30-4dec-a0fc-07c2d9062477",
   "metadata": {
    "tags": []
   },
   "outputs": [
    {
     "name": "stdout",
     "output_type": "stream",
     "text": [
      "Nombre de fichiers d'entraînement: 7769\n",
      "Nombre de fichiers de test: 3019\n",
      "Nombre de fichiers total: 10788\n"
     ]
    }
   ],
   "source": [
    "train_ids = [fid for fid in reuters.fileids() if fid.startswith(\"train\")]\n",
    "test_ids = [fid for fid in reuters.fileids() if fid.startswith(\"test\")]\n",
    "\n",
    "print(f\"Nombre de fichiers d'entraînement: {len(train_ids)}\")\n",
    "print(f\"Nombre de fichiers de test: {len(test_ids)}\")\n",
    "print(f\"Nombre de fichiers total: {len(train_ids)+len(test_ids)}\")"
   ]
  },
  {
   "cell_type": "markdown",
   "id": "99b8c9c8-9045-4e03-b8ad-298f964f2e4e",
   "metadata": {},
   "source": [
    "## Exercice 2"
   ]
  },
  {
   "cell_type": "markdown",
   "id": "15220bb4-0c74-4717-9298-113d19c5f00b",
   "metadata": {},
   "source": [
    "Chargement des données dans des `DataFrame`:"
   ]
  },
  {
   "cell_type": "code",
   "execution_count": 81,
   "id": "4140909b-c4ee-40cd-a2b7-ba94043ca7b1",
   "metadata": {
    "tags": []
   },
   "outputs": [],
   "source": [
    "def reuters_to_df(reuters, fids, category=\"grain\"):\n",
    "    return pd.DataFrame({\n",
    "        \"text\" : map(lambda fid: \" \".join(reuters.words(fid)), fids),\n",
    "        \"category\" : map(lambda fid: 1 if category in reuters.categories(fid) else 0, fids)\n",
    "    })"
   ]
  },
  {
   "cell_type": "code",
   "execution_count": 95,
   "id": "9ab51a89-09cf-4441-9dca-b09a844534cb",
   "metadata": {
    "tags": []
   },
   "outputs": [],
   "source": [
    "train = reuters_to_df(reuters, train_ids)\n",
    "test = reuters_to_df(reuters, test_ids)"
   ]
  },
  {
   "cell_type": "markdown",
   "id": "2b74c5db-3b28-4d5d-8b95-e1efb198ccc5",
   "metadata": {},
   "source": [
    "# Exercice 3"
   ]
  },
  {
   "cell_type": "code",
   "execution_count": 96,
   "id": "9c9d8cdb-9697-4fd0-bbf3-ca8281366e45",
   "metadata": {
    "tags": []
   },
   "outputs": [],
   "source": [
    "parameter_grid = {\n",
    "    \"vect__max_df\": (0.2, 0.4, 0.6, 0.8, 1.0),\n",
    "    \"vect__min_df\": (1, 3, 5, 10),\n",
    "    \"vect__ngram_range\": ((1, 1), (1, 2)),  # unigrams or bigrams\n",
    "    \"vect__norm\": (\"l1\", \"l2\"),\n",
    "    \"clf__alpha\": np.logspace(-6, 6, 13),\n",
    "}"
   ]
  },
  {
   "cell_type": "code",
   "execution_count": 97,
   "id": "4780294b-b1eb-4bb6-8025-7554016b1010",
   "metadata": {
    "tags": []
   },
   "outputs": [
    {
     "ename": "NameError",
     "evalue": "name 'pipeline' is not defined",
     "output_type": "error",
     "traceback": [
      "\u001b[0;31m---------------------------------------------------------------------------\u001b[0m",
      "\u001b[0;31mNameError\u001b[0m                                 Traceback (most recent call last)",
      "Cell \u001b[0;32mIn[97], line 2\u001b[0m\n\u001b[1;32m      1\u001b[0m random_search \u001b[38;5;241m=\u001b[39m GridSearchCV(\n\u001b[0;32m----> 2\u001b[0m     estimator\u001b[38;5;241m=\u001b[39m\u001b[43mpipeline\u001b[49m,\n\u001b[1;32m      3\u001b[0m     param_distributions\u001b[38;5;241m=\u001b[39mparameter_grid,\n\u001b[1;32m      4\u001b[0m     n_iter\u001b[38;5;241m=\u001b[39m\u001b[38;5;241m40\u001b[39m,\n\u001b[1;32m      5\u001b[0m     random_state\u001b[38;5;241m=\u001b[39m\u001b[38;5;241m0\u001b[39m,\n\u001b[1;32m      6\u001b[0m     n_jobs\u001b[38;5;241m=\u001b[39m\u001b[38;5;241m2\u001b[39m,\n\u001b[1;32m      7\u001b[0m     verbose\u001b[38;5;241m=\u001b[39m\u001b[38;5;241m1\u001b[39m,\n\u001b[1;32m      8\u001b[0m )\n",
      "\u001b[0;31mNameError\u001b[0m: name 'pipeline' is not defined"
     ]
    }
   ],
   "source": [
    "random_search = GridSearchCV(\n",
    "    estimator=pipeline,\n",
    "    param_distributions=parameter_grid,\n",
    "    n_iter=40,\n",
    "    random_state=0,\n",
    "    n_jobs=2,\n",
    "    verbose=1,\n",
    ")"
   ]
  }
 ],
 "metadata": {
  "kernelspec": {
   "display_name": "Python 3 (ipykernel)",
   "language": "python",
   "name": "python3"
  },
  "language_info": {
   "codemirror_mode": {
    "name": "ipython",
    "version": 3
   },
   "file_extension": ".py",
   "mimetype": "text/x-python",
   "name": "python",
   "nbconvert_exporter": "python",
   "pygments_lexer": "ipython3",
   "version": "3.11.3"
  }
 },
 "nbformat": 4,
 "nbformat_minor": 5
}
