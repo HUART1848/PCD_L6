{
 "cells": [
  {
   "cell_type": "markdown",
   "id": "ee30823d-d034-4328-8273-00a5b578a2b8",
   "metadata": {},
   "source": [
    "# Cours PCD – Labo 6 : Extraction d’attributs à partir de textes en vue de la classification"
   ]
  },
  {
   "cell_type": "code",
   "execution_count": 1,
   "id": "5ff4884b-d404-4efa-a95d-07cccbe92e20",
   "metadata": {
    "tags": []
   },
   "outputs": [],
   "source": [
    "import numpy as np\n",
    "import pandas as pd\n",
    "\n",
    "from nltk.corpus import reuters\n",
    "from sklearn.model_selection import GridSearchCV"
   ]
  },
  {
   "cell_type": "markdown",
   "id": "1d395733-aec1-480f-8aa3-e637382debfd",
   "metadata": {
    "tags": []
   },
   "source": [
    "## Exercice 1"
   ]
  },
  {
   "cell_type": "markdown",
   "id": "378ebe98-22a5-47cc-92c5-9e0ab3d1e77c",
   "metadata": {},
   "source": [
    "Chargement des IDs nécéssaires"
   ]
  },
  {
   "cell_type": "code",
   "execution_count": 2,
   "id": "270af467-fb30-4dec-a0fc-07c2d9062477",
   "metadata": {
    "tags": []
   },
   "outputs": [
    {
     "name": "stdout",
     "output_type": "stream",
     "text": [
      "Nombre de fichiers d'entraînement: 7769\n",
      "Nombre de fichiers de test: 3019\n",
      "Nombre de fichiers total: 10788\n"
     ]
    }
   ],
   "source": [
    "train_ids = [fid for fid in reuters.fileids() if fid.startswith(\"train\")]\n",
    "test_ids = [fid for fid in reuters.fileids() if fid.startswith(\"test\")]\n",
    "\n",
    "print(f\"Nombre de fichiers d'entraînement: {len(train_ids)}\")\n",
    "print(f\"Nombre de fichiers de test: {len(test_ids)}\")\n",
    "print(f\"Nombre de fichiers total: {len(train_ids)+len(test_ids)}\")"
   ]
  },
  {
   "cell_type": "markdown",
   "id": "99b8c9c8-9045-4e03-b8ad-298f964f2e4e",
   "metadata": {},
   "source": [
    "## Exercice 2"
   ]
  },
  {
   "cell_type": "markdown",
   "id": "15220bb4-0c74-4717-9298-113d19c5f00b",
   "metadata": {},
   "source": [
    "Chargement des données dans des `DataFrame`:"
   ]
  },
  {
   "cell_type": "code",
   "execution_count": 3,
   "id": "4140909b-c4ee-40cd-a2b7-ba94043ca7b1",
   "metadata": {
    "tags": []
   },
   "outputs": [],
   "source": [
    "def reuters_to_df(reuters, fids, category=\"grain\"):\n",
    "    return pd.DataFrame({\n",
    "        \"text\" : map(lambda fid: \" \".join(reuters.words(fid)), fids),\n",
    "        \"category\" : map(lambda fid: 1 if category in reuters.categories(fid) else 0, fids)\n",
    "    })"
   ]
  },
  {
   "cell_type": "code",
   "execution_count": 4,
   "id": "9ab51a89-09cf-4441-9dca-b09a844534cb",
   "metadata": {
    "tags": []
   },
   "outputs": [
    {
     "data": {
      "text/html": [
       "<div>\n",
       "<style scoped>\n",
       "    .dataframe tbody tr th:only-of-type {\n",
       "        vertical-align: middle;\n",
       "    }\n",
       "\n",
       "    .dataframe tbody tr th {\n",
       "        vertical-align: top;\n",
       "    }\n",
       "\n",
       "    .dataframe thead th {\n",
       "        text-align: right;\n",
       "    }\n",
       "</style>\n",
       "<table border=\"1\" class=\"dataframe\">\n",
       "  <thead>\n",
       "    <tr style=\"text-align: right;\">\n",
       "      <th></th>\n",
       "      <th>text</th>\n",
       "      <th>category</th>\n",
       "    </tr>\n",
       "  </thead>\n",
       "  <tbody>\n",
       "    <tr>\n",
       "      <th>0</th>\n",
       "      <td>ASIAN EXPORTERS FEAR DAMAGE FROM U . S .- JAPA...</td>\n",
       "      <td>0</td>\n",
       "    </tr>\n",
       "    <tr>\n",
       "      <th>1</th>\n",
       "      <td>CHINA DAILY SAYS VERMIN EAT 7 - 12 PCT GRAIN S...</td>\n",
       "      <td>1</td>\n",
       "    </tr>\n",
       "    <tr>\n",
       "      <th>2</th>\n",
       "      <td>JAPAN TO REVISE LONG - TERM ENERGY DEMAND DOWN...</td>\n",
       "      <td>0</td>\n",
       "    </tr>\n",
       "    <tr>\n",
       "      <th>3</th>\n",
       "      <td>THAI TRADE DEFICIT WIDENS IN FIRST QUARTER Tha...</td>\n",
       "      <td>1</td>\n",
       "    </tr>\n",
       "    <tr>\n",
       "      <th>4</th>\n",
       "      <td>INDONESIA SEES CPO PRICE RISING SHARPLY Indone...</td>\n",
       "      <td>0</td>\n",
       "    </tr>\n",
       "  </tbody>\n",
       "</table>\n",
       "</div>"
      ],
      "text/plain": [
       "                                                text  category\n",
       "0  ASIAN EXPORTERS FEAR DAMAGE FROM U . S .- JAPA...         0\n",
       "1  CHINA DAILY SAYS VERMIN EAT 7 - 12 PCT GRAIN S...         1\n",
       "2  JAPAN TO REVISE LONG - TERM ENERGY DEMAND DOWN...         0\n",
       "3  THAI TRADE DEFICIT WIDENS IN FIRST QUARTER Tha...         1\n",
       "4  INDONESIA SEES CPO PRICE RISING SHARPLY Indone...         0"
      ]
     },
     "execution_count": 4,
     "metadata": {},
     "output_type": "execute_result"
    }
   ],
   "source": [
    "train = reuters_to_df(reuters, train_ids)\n",
    "test = reuters_to_df(reuters, test_ids)\n",
    "train.head()\n",
    "test.head()"
   ]
  },
  {
   "cell_type": "markdown",
   "id": "2b74c5db-3b28-4d5d-8b95-e1efb198ccc5",
   "metadata": {},
   "source": [
    "# Exercice 3"
   ]
  },
  {
   "cell_type": "code",
   "execution_count": 5,
   "id": "9c9d8cdb-9697-4fd0-bbf3-ca8281366e45",
   "metadata": {
    "tags": []
   },
   "outputs": [
    {
     "name": "stdout",
     "output_type": "stream",
     "text": [
      "Performing grid search...\n",
      "pipeline: ['vect', 'tfidf', 'clf']\n",
      "parameters:\n",
      "{'clf__alpha': (1e-05, 1e-06),\n",
      " 'clf__max_iter': (20,),\n",
      " 'clf__penalty': ('l2', 'elasticnet'),\n",
      " 'vect__max_df': (0.5, 0.75, 1.0),\n",
      " 'vect__ngram_range': ((1, 1), (1, 2))}\n",
      "Fitting 5 folds for each of 24 candidates, totalling 120 fits\n",
      "done in 75.235s\n",
      "\n",
      "Best score: 0.993\n",
      "Best parameters set:\n",
      "\tclf__alpha: 1e-05\n",
      "\tclf__max_iter: 20\n",
      "\tclf__penalty: 'elasticnet'\n",
      "\tvect__max_df: 1.0\n",
      "\tvect__ngram_range: (1, 2)\n"
     ]
    }
   ],
   "source": [
    "from pprint import pprint\n",
    "from time   import time\n",
    "\n",
    "from sklearn.feature_extraction.text import CountVectorizer\n",
    "from sklearn.feature_extraction.text import TfidfTransformer\n",
    "from sklearn.linear_model            import SGDClassifier\n",
    "from sklearn.model_selection         import GridSearchCV\n",
    "from sklearn.pipeline                import Pipeline\n",
    "\n",
    "# Define a pipeline combining a text feature extractor with a simple classifier\n",
    "pipeline = Pipeline(\n",
    "    [\n",
    "        (\"vect\",  CountVectorizer()),\n",
    "        (\"tfidf\", TfidfTransformer()),\n",
    "        (\"clf\",   SGDClassifier()),   # Do not modify for this laboratory (always SGDClassifier() -> SVM)\n",
    "    ]\n",
    ")\n",
    "\n",
    "# Parameters to use for grid search. Uncommenting more parameters will give\n",
    "# better exploring power but will increase processing time in a combinatorial\n",
    "# way\n",
    "parameters = {\n",
    "    \"vect__max_df\": (0.5, 0.75, 1.0),\n",
    "    # 'vect__max_features': (None, 5000, 10000, 50000),\n",
    "    \"vect__ngram_range\": ((1, 1), (1, 2)),  # unigrams or bigrams\n",
    "    # 'tfidf__use_idf': (True, False),\n",
    "    # 'tfidf__norm': ('l1', 'l2'),\n",
    "    \"clf__max_iter\": (20,),\n",
    "    \"clf__alpha\": (0.00001, 0.000001),\n",
    "    \"clf__penalty\": (\"l2\", \"elasticnet\"),\n",
    "    # 'clf__max_iter': (10, 50, 80),\n",
    "}\n",
    "\n",
    "# Find the best parameters for both the feature extraction and the\n",
    "# classifier\n",
    "grid_search = GridSearchCV(pipeline, parameters, n_jobs=-1, verbose=1) # Cross validation!\n",
    "\n",
    "def trainModelAndDisplayParametersAndScores(pipeline, parameters, train):\n",
    "    print(\"Performing grid search...\")\n",
    "    print(\"pipeline:\", [name for name, _ in pipeline.steps])\n",
    "    print(\"parameters:\")\n",
    "    pprint(parameters)\n",
    "    t0 = time()\n",
    "    grid_search.fit(train['text'], train['category'])\n",
    "    print(\"done in %0.3fs\" % (time() - t0))\n",
    "    print()\n",
    "\n",
    "    print(\"Best score: %0.3f\" % grid_search.best_score_)\n",
    "    print(\"Best parameters set:\")\n",
    "    best_parameters = grid_search.best_estimator_.get_params()\n",
    "    for param_name in sorted(parameters.keys()):\n",
    "        print(\"\\t%s: %r\" % (param_name, best_parameters[param_name]))\n",
    "        \n",
    "trainModelAndDisplayParametersAndScores(pipeline, parameters, train)"
   ]
  },
  {
   "cell_type": "markdown",
   "id": "55c0f83f",
   "metadata": {
    "tags": []
   },
   "source": [
    "#### Recherche du meilleur modéle : \n",
    "\n",
    "D'abord on cherche les meilleurs paramètres pour la cross validation, et par la suite et en fonctions des parametres trouvés on va  changer les composantes de pipeline.\n"
   ]
  },
  {
   "cell_type": "code",
   "execution_count": 6,
   "id": "98d1bdf7",
   "metadata": {},
   "outputs": [
    {
     "name": "stdout",
     "output_type": "stream",
     "text": [
      "Performing grid search...\n",
      "pipeline: ['vect', 'tfidf', 'clf']\n",
      "parameters:\n",
      "{'clf__alpha': (1e-05, 1e-06),\n",
      " 'clf__max_iter': (20,),\n",
      " 'clf__penalty': ('l2', 'elasticnet'),\n",
      " 'vect__max_df': (0.5, 0.75, 1.0),\n",
      " 'vect__ngram_range': ((1, 1), (1, 2))}\n",
      "Fitting 5 folds for each of 24 candidates, totalling 120 fits\n",
      "done in 66.390s\n",
      "\n",
      "Best score: 0.994\n",
      "Best parameters set:\n",
      "\tclf__alpha: 1e-05\n",
      "\tclf__max_iter: 20\n",
      "\tclf__penalty: 'elasticnet'\n",
      "\tvect__max_df: 0.75\n",
      "\tvect__ngram_range: (1, 2)\n"
     ]
    }
   ],
   "source": [
    "pipeline = Pipeline(\n",
    "    [\n",
    "        (\"vect\",  CountVectorizer(analyzer='word', stop_words='english')),\n",
    "        (\"tfidf\", TfidfTransformer()),\n",
    "        (\"clf\",   SGDClassifier()),\n",
    "    ]\n",
    ")\n",
    "\n",
    "parameters = {\n",
    "    \"vect__max_df\": (0.5, 0.75, 1.0),\n",
    "    #'vect__max_features': (None, 5000, 10000, 50000),\n",
    "    \"vect__ngram_range\": ((1, 1), (1, 2)),  # unigrams or bigrams\n",
    "    # 'tfidf__use_idf': (True, False),\n",
    "    # 'tfidf__norm': ('l1', 'l2'),\n",
    "    \"clf__max_iter\": (20,),\n",
    "    \"clf__alpha\": (0.00001, 0.000001),\n",
    "    \"clf__penalty\": (\"l2\", \"elasticnet\"),\n",
    "    #'clf__max_iter': (10, 50, 80),\n",
    "}\n",
    "\n",
    "\n",
    "grid_search = GridSearchCV(pipeline, parameters, n_jobs=-1, verbose=1)\n",
    "\n",
    "trainModelAndDisplayParametersAndScores(pipeline, parameters, train)"
   ]
  },
  {
   "cell_type": "markdown",
   "id": "25718f56",
   "metadata": {},
   "source": [
    "## Exercice 4\n",
    "Le score sur les données de test de la meilleure configuration que vous avez\n",
    "obtenue ci-dessus :"
   ]
  },
  {
   "cell_type": "code",
   "execution_count": 7,
   "id": "f253a6d3",
   "metadata": {},
   "outputs": [],
   "source": [
    "y_pred = grid_search.predict(test['text'])"
   ]
  },
  {
   "cell_type": "code",
   "execution_count": 8,
   "id": "8fbe4154",
   "metadata": {},
   "outputs": [
    {
     "name": "stdout",
     "output_type": "stream",
     "text": [
      "Matrice de confusion :\n"
     ]
    },
    {
     "data": {
      "image/png": "[encoded data removed]",
      "text/plain": [
       "<Figure size 432x288 with 2 Axes>"
      ]
     },
     "metadata": {
      "needs_background": "light"
     },
     "output_type": "display_data"
    },
    {
     "name": "stdout",
     "output_type": "stream",
     "text": [
      "\n",
      "\n",
      "Scores :\n",
      "              precision    recall  f1-score   support\n",
      "\n",
      "           0       0.99      1.00      1.00      2870\n",
      "           1       0.96      0.90      0.93       149\n",
      "\n",
      "    accuracy                           0.99      3019\n",
      "   macro avg       0.98      0.95      0.96      3019\n",
      "weighted avg       0.99      0.99      0.99      3019\n",
      "\n"
     ]
    }
   ],
   "source": [
    "from sklearn.metrics import  confusion_matrix, classification_report\n",
    "from sklearn.metrics import ConfusionMatrixDisplay\n",
    "from matplotlib      import pyplot as pl\n",
    "\n",
    "print(\"Matrice de confusion :\")\n",
    "conf_mat = confusion_matrix(test['category'],y_pred)\n",
    "\n",
    "fig = ConfusionMatrixDisplay(confusion_matrix=conf_mat,display_labels=['grain','non-grain'])\n",
    "fig.plot()\n",
    "pl.show()\n",
    "\n",
    "print('\\n')\n",
    "\n",
    "print(\"Scores :\")\n",
    "print(classification_report(test['category'], y_pred))"
   ]
  },
  {
   "cell_type": "markdown",
   "id": "e4e072a2",
   "metadata": {},
   "source": [
    " ##### Score si on classe toutes les dépêches comme non-‘grain :"
   ]
  },
  {
   "cell_type": "code",
   "execution_count": 9,
   "id": "4d489f35",
   "metadata": {},
   "outputs": [
    {
     "name": "stdout",
     "output_type": "stream",
     "text": [
      "Matrice de confusion :\n"
     ]
    },
    {
     "data": {
      "image/png": "[encoded data removed]",
      "text/plain": [
       "<Figure size 432x288 with 2 Axes>"
      ]
     },
     "metadata": {
      "needs_background": "light"
     },
     "output_type": "display_data"
    },
    {
     "name": "stdout",
     "output_type": "stream",
     "text": [
      "\n",
      "\n",
      "Scores :\n",
      "              precision    recall  f1-score   support\n",
      "\n",
      "           0       0.00      0.00      0.00      2870\n",
      "           1       0.05      1.00      0.09       149\n",
      "\n",
      "    accuracy                           0.05      3019\n",
      "   macro avg       0.02      0.50      0.05      3019\n",
      "weighted avg       0.00      0.05      0.00      3019\n",
      "\n"
     ]
    }
   ],
   "source": [
    "import numpy as np\n",
    "\n",
    "\n",
    "y_all_non_grain = np.array(len(y_pred) * [1])\n",
    "\n",
    "print(\"Matrice de confusion :\")\n",
    "conf_mat = confusion_matrix(test['category'],y_all_non_grain)\n",
    "\n",
    "fig = ConfusionMatrixDisplay(confusion_matrix=conf_mat,display_labels=['grain','non-grain'])\n",
    "fig.plot()\n",
    "pl.show()\n",
    "\n",
    "print('\\n')\n",
    "\n",
    "print(\"Scores :\")\n",
    "print(classification_report(test['category'], y_all_non_grain, zero_division=0))"
   ]
  },
  {
   "cell_type": "markdown",
   "id": "02dcd69f",
   "metadata": {},
   "source": [
    "### Conclusion :\n",
    "\n",
    "Le modèle établi au début donne un f1-score de 1 pour la classe 'non-grain' et un f1-score de 0.93 pour la classe 'grain', qui sont de très bons scores, par contre on peut observer que tout les documents ou presque on était mal classé si si on classe toutes les dépêches comme non-‘grain, et que tous les indicateurs de scores sont extrêmement mauvais, donc on peut affirmer que c'est une mauvaise idée d'utiliser le modèle 2.\n"
   ]
  },
  {
   "cell_type": "code",
   "execution_count": null,
   "id": "bbb667de",
   "metadata": {},
   "outputs": [],
   "source": []
  }
 ],
 "metadata": {
  "kernelspec": {
   "display_name": "Python 3 (ipykernel)",
   "language": "python",
   "name": "python3"
  },
  "language_info": {
   "codemirror_mode": {
    "name": "ipython",
    "version": 3
   },
   "file_extension": ".py",
   "mimetype": "text/x-python",
   "name": "python",
   "nbconvert_exporter": "python",
   "pygments_lexer": "ipython3",
   "version": "3.9.7"
  }
 },
 "nbformat": 4,
 "nbformat_minor": 5
}
