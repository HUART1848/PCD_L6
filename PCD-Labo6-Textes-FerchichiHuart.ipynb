{
 "cells": [
  {
   "cell_type": "markdown",
   "id": "8517ef7f-e78b-4f96-b9b1-835483efac84",
   "metadata": {},
   "source": [
    "# PCD - Laboratoire 6 - Textes"
   ]
  },
  {
   "cell_type": "code",
   "execution_count": null,
   "id": "524fdf52-99b2-4d5b-847a-7f81dd6b453a",
   "metadata": {},
   "outputs": [],
   "source": []
  }
 ],
 "metadata": {
  "kernelspec": {
   "display_name": "Python 3 (ipykernel)",
   "language": "python",
   "name": "python3"
  },
  "language_info": {
   "codemirror_mode": {
    "name": "ipython",
    "version": 3
   },
   "file_extension": ".py",
   "mimetype": "text/x-python",
   "name": "python",
   "nbconvert_exporter": "python",
   "pygments_lexer": "ipython3",
   "version": "3.10.10"
  }
 },
 "nbformat": 4,
 "nbformat_minor": 5
}
